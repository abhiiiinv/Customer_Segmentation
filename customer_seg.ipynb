{
 "cells": [
  {
   "cell_type": "code",
   "execution_count": 4,
   "id": "8fa80ba8-c8d2-4061-82f0-6251389a8872",
   "metadata": {},
   "outputs": [
    {
     "name": "stdout",
     "output_type": "stream",
     "text": [
      "Starting...\n"
     ]
    }
   ],
   "source": [
    "import pandas as pd\n",
    "import numpy as np\n",
    "import matplotlib.pyplot as plt\n",
    "import seaborn as sns\n",
    "from sklearn.preprocessing import StandardScaler\n",
    "from sklearn.cluster import KMeans\n",
    "from sklearn.metrics import silhouette_score\n",
    "import plotly.express as px\n",
    "import warnings\n",
    "warnings.filterwarnings('ignore')\n",
    "print(\"Starting...\")\n",
    "\n"
   ]
  },
  {
   "cell_type": "code",
   "execution_count": 6,
   "id": "d9c865cf-0d29-446a-a63f-917fbb0afc60",
   "metadata": {},
   "outputs": [
    {
     "name": "stdout",
     "output_type": "stream",
     "text": [
      " Data loaded – Columns: ['CustomerID', 'Genre', 'Age', 'Annual_Income_(k$)', 'Spending_Score']\n"
     ]
    }
   ],
   "source": [
    "# 1. Load dataset\n",
    "df = pd.read_csv(\"Mall_Customers.csv\")\n",
    "df.columns = df.columns.str.strip()  # remove extra spaces\n",
    "print(\" Data loaded – Columns:\", df.columns.tolist())\n",
    "\n",
    "# 2. Fix column names if needed\n",
    "df = df.rename(columns={\n",
    "    'Annual Income (₹)': 'Annual Income (k$)',\n",
    "    'Spending Score (1-100) ': 'Spending Score (1-100)'\n",
    "})\n",
    "\n",
    "\n",
    "# 3. Select features and scale\n",
    "X = df[['Age', 'Annual_Income_(k$)', 'Spending_Score']]\n",
    "scaler = StandardScaler()\n",
    "X_scaled = scaler.fit_transform(X)\n",
    "\n"
   ]
  },
  {
   "cell_type": "code",
   "execution_count": 8,
   "id": "0293511d-15ed-4f5c-8cd9-9cd362814d51",
   "metadata": {},
   "outputs": [
    {
     "name": "stdout",
     "output_type": "stream",
     "text": [
      " elbow_curve.png saved\n",
      " silhouette_curve.png saved\n"
     ]
    }
   ],
   "source": [
    "# 4. Elbow method\n",
    "inertia = []\n",
    "for k in range(2, 11):\n",
    "    model = KMeans(n_clusters=k, random_state=42)\n",
    "    model.fit(X_scaled)\n",
    "    inertia.append(model.inertia_)\n",
    "\n",
    "plt.figure()\n",
    "plt.plot(range(2, 11), inertia, 'bo-')\n",
    "plt.title(\"Elbow Method\")\n",
    "plt.xlabel(\"k\")\n",
    "plt.ylabel(\"Inertia\")\n",
    "plt.savefig(\"elbow_curve.png\")\n",
    "plt.close()\n",
    "print(\" elbow_curve.png saved\")\n",
    "\n",
    "# 5. Silhouette Score\n",
    "silhouette_scores = []\n",
    "for k in range(2, 11):\n",
    "    model = KMeans(n_clusters=k, random_state=42)\n",
    "    labels = model.fit_predict(X_scaled)\n",
    "    score = silhouette_score(X_scaled, labels)\n",
    "    silhouette_scores.append(score)\n",
    "\n",
    "plt.figure()\n",
    "plt.plot(range(2, 11), silhouette_scores, 'ro-')\n",
    "plt.title(\"Silhouette Scores\")\n",
    "plt.xlabel(\"k\")\n",
    "plt.ylabel(\"Score\")\n",
    "plt.savefig(\"silhouette_curve.png\")\n",
    "plt.close()\n",
    "print(\" silhouette_curve.png saved\")\n",
    "\n"
   ]
  },
  {
   "cell_type": "code",
   "execution_count": 10,
   "id": "47b347f3-0723-4ea6-99b8-8b9113ab7329",
   "metadata": {},
   "outputs": [
    {
     "name": "stdout",
     "output_type": "stream",
     "text": [
      " mall_customers_with_clusters.csv saved\n",
      " 3d_cluster_plot.html saved\n",
      " All files generated successfully!\n"
     ]
    }
   ],
   "source": [
    "# 6. Final Clustering\n",
    "kmeans = KMeans(n_clusters=5, random_state=42)\n",
    "df['Cluster'] = kmeans.fit_predict(X_scaled)\n",
    "\n",
    "df.to_csv(\"mall_customers_with_clusters.csv\", index=False)\n",
    "print(\" mall_customers_with_clusters.csv saved\")\n",
    "\n",
    "# 7. 3D Plot\n",
    "fig = px.scatter_3d(\n",
    "    df,\n",
    "    x='Age',\n",
    "    y='Annual_Income_(k$)',\n",
    "    z='Spending_Score',\n",
    "    color='Cluster',\n",
    "    title=\"Customer Segmentation 3D\"\n",
    ")\n",
    "\n",
    "fig.write_html(\"3d_cluster_plot.html\")\n",
    "print(\" 3d_cluster_plot.html saved\")\n",
    "\n",
    "print(\" All files generated successfully!\")"
   ]
  },
  {
   "cell_type": "code",
   "execution_count": 12,
   "id": "85664877-83c2-4b79-8710-1f6204848420",
   "metadata": {},
   "outputs": [
    {
     "name": "stdout",
     "output_type": "stream",
     "text": [
      "Cluster Profile:\n",
      "          Age  Annual_Income_(k$)  Spending_Score  Customer Count\n",
      "Cluster                                                          \n",
      "0        55.3                47.6            41.7              58\n",
      "1        32.9                86.1            81.5              40\n",
      "2        25.8                26.1            74.8              26\n",
      "3        26.7                54.3            40.9              45\n",
      "4        44.4                89.8            18.5              31\n",
      "\n",
      "Gender Distribution:\n",
      "Genre    Female  Male\n",
      "Cluster              \n",
      "0            33    25\n",
      "1            22    18\n",
      "2            15    11\n",
      "3            27    18\n",
      "4            15    16\n"
     ]
    }
   ],
   "source": [
    "# Average values per cluster\n",
    "cluster_profile = df.groupby('Cluster')[['Age', 'Annual_Income_(k$)', 'Spending_Score']].mean().round(1)\n",
    "cluster_profile['Customer Count'] = df['Cluster'].value_counts().sort_index()\n",
    "\n",
    "# Gender distribution (optional)\n",
    "gender_dist = df.groupby(['Cluster', 'Genre']).size().unstack().fillna(0).astype(int)\n",
    "\n",
    "print(\"Cluster Profile:\")\n",
    "print(cluster_profile)\n",
    "\n",
    "print(\"\\nGender Distribution:\")\n",
    "print(gender_dist)"
   ]
  },
  {
   "cell_type": "code",
   "execution_count": null,
   "id": "830a8d1d-cfb4-4b74-99db-7fb01dfe0507",
   "metadata": {},
   "outputs": [],
   "source": []
  }
 ],
 "metadata": {
  "kernelspec": {
   "display_name": "Python [conda env:base] *",
   "language": "python",
   "name": "conda-base-py"
  },
  "language_info": {
   "codemirror_mode": {
    "name": "ipython",
    "version": 3
   },
   "file_extension": ".py",
   "mimetype": "text/x-python",
   "name": "python",
   "nbconvert_exporter": "python",
   "pygments_lexer": "ipython3",
   "version": "3.12.7"
  }
 },
 "nbformat": 4,
 "nbformat_minor": 5
}
